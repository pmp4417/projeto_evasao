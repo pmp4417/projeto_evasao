{
 "cells": [
  {
   "cell_type": "markdown",
   "id": "0e159c7c",
   "metadata": {},
   "source": [
    "# MVP - Previsão de Evasão de Alunos (Versão Modular)"
   ]
  },
  {
   "cell_type": "code",
   "execution_count": 1,
   "id": "814f8052",
   "metadata": {},
   "outputs": [],
   "source": [
    "\n",
    "import sys\n",
    "import os\n",
    "sys.path.append(os.path.abspath(os.path.join(os.getcwd(), 'src')))\n"
   ]
  },
  {
   "cell_type": "code",
   "execution_count": 2,
   "id": "0a9340ca",
   "metadata": {},
   "outputs": [],
   "source": [
    "\n",
    "from simulacao_dados import simular_dados\n",
    "from modelagem import preparar_dados, treinar_modelo, obter_importancias\n",
    "from intervencoes import aplicar_nivel_risco, aplicar_intervencoes, analisar_impacto, calcular_roi\n",
    "import seaborn as sns\n",
    "import matplotlib.pyplot as plt\n"
   ]
  },
  {
   "cell_type": "markdown",
   "id": "2a7a8e0b",
   "metadata": {},
   "source": [
    "## 1. Simulação de Dados"
   ]
  },
  {
   "cell_type": "code",
   "execution_count": 3,
   "id": "2fd6da5e",
   "metadata": {},
   "outputs": [
    {
     "data": {
      "text/html": [
       "<div>\n",
       "<style scoped>\n",
       "    .dataframe tbody tr th:only-of-type {\n",
       "        vertical-align: middle;\n",
       "    }\n",
       "\n",
       "    .dataframe tbody tr th {\n",
       "        vertical-align: top;\n",
       "    }\n",
       "\n",
       "    .dataframe thead th {\n",
       "        text-align: right;\n",
       "    }\n",
       "</style>\n",
       "<table border=\"1\" class=\"dataframe\">\n",
       "  <thead>\n",
       "    <tr style=\"text-align: right;\">\n",
       "      <th></th>\n",
       "      <th>idade</th>\n",
       "      <th>sexo</th>\n",
       "      <th>curso</th>\n",
       "      <th>turno</th>\n",
       "      <th>semestre_atual</th>\n",
       "      <th>nota_média</th>\n",
       "      <th>frequência</th>\n",
       "      <th>trancamentos</th>\n",
       "      <th>atraso_pagamento</th>\n",
       "      <th>tipo_ingresso</th>\n",
       "      <th>trabalha</th>\n",
       "      <th>auxílio_bolsa</th>\n",
       "      <th>evadiu</th>\n",
       "    </tr>\n",
       "  </thead>\n",
       "  <tbody>\n",
       "    <tr>\n",
       "      <th>0</th>\n",
       "      <td>55</td>\n",
       "      <td>Masculino</td>\n",
       "      <td>Engenharia</td>\n",
       "      <td>Matutino</td>\n",
       "      <td>9</td>\n",
       "      <td>5.30</td>\n",
       "      <td>74.02</td>\n",
       "      <td>0</td>\n",
       "      <td>0</td>\n",
       "      <td>Vestibular</td>\n",
       "      <td>1</td>\n",
       "      <td>0</td>\n",
       "      <td>1</td>\n",
       "    </tr>\n",
       "    <tr>\n",
       "      <th>1</th>\n",
       "      <td>45</td>\n",
       "      <td>Feminino</td>\n",
       "      <td>Direito</td>\n",
       "      <td>Vespertino</td>\n",
       "      <td>4</td>\n",
       "      <td>8.45</td>\n",
       "      <td>81.38</td>\n",
       "      <td>0</td>\n",
       "      <td>0</td>\n",
       "      <td>Transferência</td>\n",
       "      <td>0</td>\n",
       "      <td>1</td>\n",
       "      <td>0</td>\n",
       "    </tr>\n",
       "    <tr>\n",
       "      <th>2</th>\n",
       "      <td>31</td>\n",
       "      <td>Feminino</td>\n",
       "      <td>Administração</td>\n",
       "      <td>Vespertino</td>\n",
       "      <td>2</td>\n",
       "      <td>5.03</td>\n",
       "      <td>66.96</td>\n",
       "      <td>1</td>\n",
       "      <td>0</td>\n",
       "      <td>Transferência</td>\n",
       "      <td>0</td>\n",
       "      <td>0</td>\n",
       "      <td>1</td>\n",
       "    </tr>\n",
       "    <tr>\n",
       "      <th>3</th>\n",
       "      <td>59</td>\n",
       "      <td>Masculino</td>\n",
       "      <td>Administração</td>\n",
       "      <td>Vespertino</td>\n",
       "      <td>7</td>\n",
       "      <td>4.51</td>\n",
       "      <td>81.45</td>\n",
       "      <td>1</td>\n",
       "      <td>0</td>\n",
       "      <td>Vestibular</td>\n",
       "      <td>0</td>\n",
       "      <td>0</td>\n",
       "      <td>1</td>\n",
       "    </tr>\n",
       "    <tr>\n",
       "      <th>4</th>\n",
       "      <td>24</td>\n",
       "      <td>Masculino</td>\n",
       "      <td>Enfermagem</td>\n",
       "      <td>Noturno</td>\n",
       "      <td>6</td>\n",
       "      <td>7.52</td>\n",
       "      <td>84.07</td>\n",
       "      <td>1</td>\n",
       "      <td>0</td>\n",
       "      <td>Vestibular</td>\n",
       "      <td>1</td>\n",
       "      <td>1</td>\n",
       "      <td>0</td>\n",
       "    </tr>\n",
       "  </tbody>\n",
       "</table>\n",
       "</div>"
      ],
      "text/plain": [
       "   idade       sexo          curso       turno  semestre_atual  nota_média  \\\n",
       "0     55  Masculino     Engenharia    Matutino               9        5.30   \n",
       "1     45   Feminino        Direito  Vespertino               4        8.45   \n",
       "2     31   Feminino  Administração  Vespertino               2        5.03   \n",
       "3     59  Masculino  Administração  Vespertino               7        4.51   \n",
       "4     24  Masculino     Enfermagem     Noturno               6        7.52   \n",
       "\n",
       "   frequência  trancamentos  atraso_pagamento  tipo_ingresso  trabalha  \\\n",
       "0       74.02             0                 0     Vestibular         1   \n",
       "1       81.38             0                 0  Transferência         0   \n",
       "2       66.96             1                 0  Transferência         0   \n",
       "3       81.45             1                 0     Vestibular         0   \n",
       "4       84.07             1                 0     Vestibular         1   \n",
       "\n",
       "   auxílio_bolsa  evadiu  \n",
       "0              0       1  \n",
       "1              1       0  \n",
       "2              0       1  \n",
       "3              0       1  \n",
       "4              1       0  "
      ]
     },
     "execution_count": 3,
     "metadata": {},
     "output_type": "execute_result"
    }
   ],
   "source": [
    "\n",
    "df = simular_dados(n=500)\n",
    "df.head()\n"
   ]
  },
  {
   "cell_type": "markdown",
   "id": "7652c2a0",
   "metadata": {},
   "source": [
    "## 2. Treinamento do Modelo"
   ]
  },
  {
   "cell_type": "code",
   "execution_count": 4,
   "id": "8d1f3933",
   "metadata": {},
   "outputs": [
    {
     "data": {
      "text/html": [
       "<div>\n",
       "<style scoped>\n",
       "    .dataframe tbody tr th:only-of-type {\n",
       "        vertical-align: middle;\n",
       "    }\n",
       "\n",
       "    .dataframe tbody tr th {\n",
       "        vertical-align: top;\n",
       "    }\n",
       "\n",
       "    .dataframe thead th {\n",
       "        text-align: right;\n",
       "    }\n",
       "</style>\n",
       "<table border=\"1\" class=\"dataframe\">\n",
       "  <thead>\n",
       "    <tr style=\"text-align: right;\">\n",
       "      <th></th>\n",
       "      <th>feature</th>\n",
       "      <th>importance</th>\n",
       "    </tr>\n",
       "  </thead>\n",
       "  <tbody>\n",
       "    <tr>\n",
       "      <th>5</th>\n",
       "      <td>nota_média</td>\n",
       "      <td>0.422742</td>\n",
       "    </tr>\n",
       "    <tr>\n",
       "      <th>8</th>\n",
       "      <td>atraso_pagamento</td>\n",
       "      <td>0.320173</td>\n",
       "    </tr>\n",
       "    <tr>\n",
       "      <th>6</th>\n",
       "      <td>frequência</td>\n",
       "      <td>0.110704</td>\n",
       "    </tr>\n",
       "    <tr>\n",
       "      <th>0</th>\n",
       "      <td>idade</td>\n",
       "      <td>0.034751</td>\n",
       "    </tr>\n",
       "    <tr>\n",
       "      <th>7</th>\n",
       "      <td>trancamentos</td>\n",
       "      <td>0.029374</td>\n",
       "    </tr>\n",
       "  </tbody>\n",
       "</table>\n",
       "</div>"
      ],
      "text/plain": [
       "            feature  importance\n",
       "5        nota_média    0.422742\n",
       "8  atraso_pagamento    0.320173\n",
       "6        frequência    0.110704\n",
       "0             idade    0.034751\n",
       "7      trancamentos    0.029374"
      ]
     },
     "execution_count": 4,
     "metadata": {},
     "output_type": "execute_result"
    }
   ],
   "source": [
    "\n",
    "X_train, X_test, y_train, y_test = preparar_dados(df)\n",
    "model = treinar_modelo(X_train, y_train)\n",
    "importancias = obter_importancias(model, X_train)\n",
    "importancias.head()\n"
   ]
  },
  {
   "cell_type": "markdown",
   "id": "93780e42",
   "metadata": {},
   "source": [
    "## 3. Importância das Variáveis"
   ]
  },
  {
   "cell_type": "code",
   "execution_count": 5,
   "id": "e91d69cf",
   "metadata": {},
   "outputs": [
    {
     "data": {
      "image/png": "[encoded data removed]",
      "text/plain": [
       "<Figure size 640x480 with 1 Axes>"
      ]
     },
     "metadata": {},
     "output_type": "display_data"
    }
   ],
   "source": [
    "\n",
    "sns.barplot(x='importance', y='feature', data=importancias.head(10))\n",
    "plt.title('Top 10 Variáveis Mais Importantes')\n",
    "plt.show()\n"
   ]
  },
  {
   "cell_type": "markdown",
   "id": "693af1db",
   "metadata": {},
   "source": [
    "## 4. Cálculo de Risco"
   ]
  },
  {
   "cell_type": "code",
   "execution_count": 6,
   "id": "5a8d1ea6",
   "metadata": {},
   "outputs": [
    {
     "data": {
      "text/plain": [
       "Baixo    77\n",
       "Alto     73\n",
       "Name: count, dtype: int64"
      ]
     },
     "execution_count": 6,
     "metadata": {},
     "output_type": "execute_result"
    }
   ],
   "source": [
    "\n",
    "riscos, niveis = aplicar_nivel_risco(model, X_test)\n",
    "niveis.value_counts()\n"
   ]
  },
  {
   "cell_type": "markdown",
   "id": "6f30f254",
   "metadata": {},
   "source": [
    "## 5. Simulação de Intervenção"
   ]
  },
  {
   "cell_type": "code",
   "execution_count": 7,
   "id": "87e3325a",
   "metadata": {},
   "outputs": [],
   "source": [
    "\n",
    "df_interv = aplicar_intervencoes(df)\n",
    "X_train_new, X_test_new, _, _ = preparar_dados(df_interv)\n",
    "novos_riscos, _ = aplicar_nivel_risco(model, X_test_new)\n"
   ]
  },
  {
   "cell_type": "markdown",
   "id": "56981820",
   "metadata": {},
   "source": [
    "## 6. Análise de Impacto e ROI"
   ]
  },
  {
   "cell_type": "code",
   "execution_count": 8,
   "id": "d3a9811c",
   "metadata": {},
   "outputs": [
    {
     "name": "stdout",
     "output_type": "stream",
     "text": [
      "Impacto médio: 10.40%\n",
      "ROI estimado: 56.00%\n"
     ]
    }
   ],
   "source": [
    "\n",
    "impacto = analisar_impacto(riscos, novos_riscos)\n",
    "roi = calcular_roi(len(riscos), impacto, custo_intervencao=1000)\n",
    "\n",
    "print(f\"Impacto médio: {impacto:.2%}\")\n",
    "print(f\"ROI estimado: {roi:.2%}\")\n"
   ]
  }
 ],
 "metadata": {
  "kernelspec": {
   "display_name": "evasao_alunos",
   "language": "python",
   "name": "python3"
  },
  "language_info": {
   "codemirror_mode": {
    "name": "ipython",
    "version": 3
   },
   "file_extension": ".py",
   "mimetype": "text/x-python",
   "name": "python",
   "nbconvert_exporter": "python",
   "pygments_lexer": "ipython3",
   "version": "3.10.16"
  }
 },
 "nbformat": 4,
 "nbformat_minor": 5
}
